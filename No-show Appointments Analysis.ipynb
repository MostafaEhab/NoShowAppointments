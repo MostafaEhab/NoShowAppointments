{
 "cells": [
  {
   "cell_type": "markdown",
   "metadata": {},
   "source": [
    "# Project: No-show Appointments Analysis\n",
    "\n",
    "## Table of Contents\n",
    "<ul>\n",
    "<li><a href=\"#intro\">Introduction</a></li>\n",
    "<li><a href=\"#wrangling\">Data Wrangling</a></li>\n",
    "<li><a href=\"#eda\">Exploratory Data Analysis</a></li>\n",
    "<li><a href=\"#conclusions\">Conclusions</a></li>\n",
    "</ul>"
   ]
  },
  {
   "cell_type": "markdown",
   "metadata": {},
   "source": [
    "<a id='intro'></a>\n",
    "## Introduction\n",
    "\n",
    "This dataset collects information from 100k medical appointments in Brazil and is focused on the question of whether or not patients show up for their appointment. A number of characteristics about the patient are included in each row. Below are some of the features we have for each record:\n",
    "- ‘PatientId’ Identification of a patient.\n",
    "- ‘ScheduledDay’ tells us on what day the patient set up their appointment.\n",
    "- ‘Neighborhood’ indicates the location of the hospital.\n",
    "- ‘Scholarship’ indicates whether or not the patient is enrolled in Brasilian welfare program Bolsa Família.\n",
    "- ‘Neighbourhood’ Where the appointment takes place.\n",
    "- ‘SMS_received’ 1 or more messages sent to the patient.\n",
    "- ‘No-show’ it says ‘No’ if the patient showed up to their appointment, and ‘Yes’ if they did not show up."
   ]
  },
  {
   "cell_type": "markdown",
   "metadata": {},
   "source": [
    "### Questions\n",
    "\n",
    "Here are couple of questions we will answer throughout the upcoming investigation:\n",
    "- Q1: Does the scheduled day being a weekday or a weekend affect whether or not the patient show up?\n",
    "- Q2: How does the show rate change between morning, afternoon, and late appointments?\n",
    "- Q3: How does the show rate change between different age groups?\n",
    "- Q4: How does the show rate change based on gender?\n",
    "- Q5: Does having a scholarship affect whether or not a patient would show up?\n",
    "- Q6: Would recieving an SMS affect the patient show-up rate?\n",
    "- Q7: Which patients have more chance of showing up between those who have Hipertension, Diabetes, Alchoholism and Handcap?\n",
    "- Q8: Would a patient be more or less likely to show up on his (n)th appointment compared to his 1st appointment? (n > 1)"
   ]
  },
  {
   "cell_type": "code",
   "execution_count": 1,
   "metadata": {},
   "outputs": [],
   "source": [
    "# import our packages.\n",
    "import pandas as pd\n",
    "import numpy as np\n",
    "from matplotlib import pyplot as plt\n",
    "import seaborn as sns\n",
    "import datetime as dt\n",
    "\n",
    "sns.set(style='whitegrid')\n",
    "%matplotlib inline"
   ]
  },
  {
   "cell_type": "markdown",
   "metadata": {},
   "source": [
    "### Loading Data"
   ]
  },
  {
   "cell_type": "code",
   "execution_count": 2,
   "metadata": {},
   "outputs": [
    {
     "data": {
      "text/html": [
       "<div>\n",
       "<style scoped>\n",
       "    .dataframe tbody tr th:only-of-type {\n",
       "        vertical-align: middle;\n",
       "    }\n",
       "\n",
       "    .dataframe tbody tr th {\n",
       "        vertical-align: top;\n",
       "    }\n",
       "\n",
       "    .dataframe thead th {\n",
       "        text-align: right;\n",
       "    }\n",
       "</style>\n",
       "<table border=\"1\" class=\"dataframe\">\n",
       "  <thead>\n",
       "    <tr style=\"text-align: right;\">\n",
       "      <th></th>\n",
       "      <th>PatientId</th>\n",
       "      <th>AppointmentID</th>\n",
       "      <th>Gender</th>\n",
       "      <th>ScheduledDay</th>\n",
       "      <th>AppointmentDay</th>\n",
       "      <th>Age</th>\n",
       "      <th>Neighbourhood</th>\n",
       "      <th>Scholarship</th>\n",
       "      <th>Hipertension</th>\n",
       "      <th>Diabetes</th>\n",
       "      <th>Alcoholism</th>\n",
       "      <th>Handcap</th>\n",
       "      <th>SMS_received</th>\n",
       "      <th>No-show</th>\n",
       "    </tr>\n",
       "  </thead>\n",
       "  <tbody>\n",
       "    <tr>\n",
       "      <th>0</th>\n",
       "      <td>2.987250e+13</td>\n",
       "      <td>5642903</td>\n",
       "      <td>F</td>\n",
       "      <td>2016-04-29T18:38:08Z</td>\n",
       "      <td>2016-04-29T00:00:00Z</td>\n",
       "      <td>62</td>\n",
       "      <td>JARDIM DA PENHA</td>\n",
       "      <td>0</td>\n",
       "      <td>1</td>\n",
       "      <td>0</td>\n",
       "      <td>0</td>\n",
       "      <td>0</td>\n",
       "      <td>0</td>\n",
       "      <td>No</td>\n",
       "    </tr>\n",
       "  </tbody>\n",
       "</table>\n",
       "</div>"
      ],
      "text/plain": [
       "      PatientId  AppointmentID Gender          ScheduledDay  \\\n",
       "0  2.987250e+13        5642903      F  2016-04-29T18:38:08Z   \n",
       "\n",
       "         AppointmentDay  Age    Neighbourhood  Scholarship  Hipertension  \\\n",
       "0  2016-04-29T00:00:00Z   62  JARDIM DA PENHA            0             1   \n",
       "\n",
       "   Diabetes  Alcoholism  Handcap  SMS_received No-show  \n",
       "0         0           0        0             0      No  "
      ]
     },
     "execution_count": 2,
     "metadata": {},
     "output_type": "execute_result"
    }
   ],
   "source": [
    "# load csv file\n",
    "df = pd.read_csv('noshowappointments-kagglev2-may-2016.csv')\n",
    "df.head(1)"
   ]
  },
  {
   "cell_type": "markdown",
   "metadata": {},
   "source": [
    "### Assessing"
   ]
  },
  {
   "cell_type": "markdown",
   "metadata": {},
   "source": [
    "For us to assess the data, we'll check its dimensions, to know how many records are there and the number of features about each record. We'll check for missing values and duplicates."
   ]
  },
  {
   "cell_type": "code",
   "execution_count": 3,
   "metadata": {},
   "outputs": [
    {
     "data": {
      "text/plain": [
       "(110527, 14)"
      ]
     },
     "execution_count": 3,
     "metadata": {},
     "output_type": "execute_result"
    }
   ],
   "source": [
    "# check the dimensions of the dataframe\n",
    "df.shape"
   ]
  },
  {
   "cell_type": "code",
   "execution_count": 4,
   "metadata": {
    "scrolled": true
   },
   "outputs": [
    {
     "name": "stdout",
     "output_type": "stream",
     "text": [
      "<class 'pandas.core.frame.DataFrame'>\n",
      "RangeIndex: 110527 entries, 0 to 110526\n",
      "Data columns (total 14 columns):\n",
      "PatientId         110527 non-null float64\n",
      "AppointmentID     110527 non-null int64\n",
      "Gender            110527 non-null object\n",
      "ScheduledDay      110527 non-null object\n",
      "AppointmentDay    110527 non-null object\n",
      "Age               110527 non-null int64\n",
      "Neighbourhood     110527 non-null object\n",
      "Scholarship       110527 non-null int64\n",
      "Hipertension      110527 non-null int64\n",
      "Diabetes          110527 non-null int64\n",
      "Alcoholism        110527 non-null int64\n",
      "Handcap           110527 non-null int64\n",
      "SMS_received      110527 non-null int64\n",
      "No-show           110527 non-null object\n",
      "dtypes: float64(1), int64(8), object(5)\n",
      "memory usage: 11.8+ MB\n"
     ]
    }
   ],
   "source": [
    "# assess the data types and missing values in each column\n",
    "df.info()"
   ]
  },
  {
   "cell_type": "code",
   "execution_count": 5,
   "metadata": {},
   "outputs": [
    {
     "data": {
      "text/plain": [
       "0"
      ]
     },
     "execution_count": 5,
     "metadata": {},
     "output_type": "execute_result"
    }
   ],
   "source": [
    "# look out for duplicates\n",
    "df.duplicated().sum()"
   ]
  },
  {
   "cell_type": "code",
   "execution_count": 6,
   "metadata": {},
   "outputs": [
    {
     "data": {
      "text/plain": [
       "False"
      ]
     },
     "execution_count": 6,
     "metadata": {},
     "output_type": "execute_result"
    }
   ],
   "source": [
    "# look out for null values\n",
    "(df.isnull().sum()).all()"
   ]
  },
  {
   "cell_type": "code",
   "execution_count": 7,
   "metadata": {},
   "outputs": [
    {
     "data": {
      "text/plain": [
       "PatientId          62299\n",
       "AppointmentID     110527\n",
       "Gender                 2\n",
       "ScheduledDay      103549\n",
       "AppointmentDay        27\n",
       "Age                  104\n",
       "Neighbourhood         81\n",
       "Scholarship            2\n",
       "Hipertension           2\n",
       "Diabetes               2\n",
       "Alcoholism             2\n",
       "Handcap                5\n",
       "SMS_received           2\n",
       "No-show                2\n",
       "dtype: int64"
      ]
     },
     "execution_count": 7,
     "metadata": {},
     "output_type": "execute_result"
    }
   ],
   "source": [
    "# look up categorical variables in the dataset\n",
    "df.nunique()"
   ]
  },
  {
   "cell_type": "markdown",
   "metadata": {},
   "source": [
    "For the Handcap column, as wee can see in the below cell, there are scores from 0 to 5 that sets the level of disability, for our analysis we'll change that later to be only True for 1 to 5 or False for 0."
   ]
  },
  {
   "cell_type": "code",
   "execution_count": 8,
   "metadata": {
    "scrolled": false
   },
   "outputs": [
    {
     "data": {
      "text/plain": [
       "0    108286\n",
       "1      2042\n",
       "2       183\n",
       "3        13\n",
       "4         3\n",
       "Name: Handcap, dtype: int64"
      ]
     },
     "execution_count": 8,
     "metadata": {},
     "output_type": "execute_result"
    }
   ],
   "source": [
    "# check the frequency of each value\n",
    "df['Handcap'].value_counts()"
   ]
  },
  {
   "cell_type": "markdown",
   "metadata": {},
   "source": [
    "In the coming couple of cells, we'll check the percentages for some categorical features we have, just to have an idea how the data is distributed:"
   ]
  },
  {
   "cell_type": "code",
   "execution_count": 9,
   "metadata": {},
   "outputs": [
    {
     "data": {
      "text/plain": [
       "No     0.798067\n",
       "Yes    0.201933\n",
       "Name: No-show, dtype: float64"
      ]
     },
     "execution_count": 9,
     "metadata": {},
     "output_type": "execute_result"
    }
   ],
   "source": [
    "# check the percentage of show-ups VS no-shows for the appointments we have in the dataset.\n",
    "df['No-show'].value_counts(normalize=True)"
   ]
  },
  {
   "cell_type": "code",
   "execution_count": 10,
   "metadata": {},
   "outputs": [
    {
     "data": {
      "text/plain": [
       "0    0.678974\n",
       "1    0.321026\n",
       "Name: SMS_received, dtype: float64"
      ]
     },
     "execution_count": 10,
     "metadata": {},
     "output_type": "execute_result"
    }
   ],
   "source": [
    "df['SMS_received'].value_counts(normalize=True)"
   ]
  },
  {
   "cell_type": "code",
   "execution_count": 11,
   "metadata": {},
   "outputs": [
    {
     "data": {
      "text/plain": [
       "0    0.9696\n",
       "1    0.0304\n",
       "Name: Alcoholism, dtype: float64"
      ]
     },
     "execution_count": 11,
     "metadata": {},
     "output_type": "execute_result"
    }
   ],
   "source": [
    "df['Alcoholism'].value_counts(normalize=True)"
   ]
  },
  {
   "cell_type": "code",
   "execution_count": 12,
   "metadata": {},
   "outputs": [
    {
     "data": {
      "text/plain": [
       "0    0.928135\n",
       "1    0.071865\n",
       "Name: Diabetes, dtype: float64"
      ]
     },
     "execution_count": 12,
     "metadata": {},
     "output_type": "execute_result"
    }
   ],
   "source": [
    "df['Diabetes'].value_counts(normalize=True)"
   ]
  },
  {
   "cell_type": "code",
   "execution_count": 13,
   "metadata": {},
   "outputs": [
    {
     "data": {
      "text/plain": [
       "0    0.802754\n",
       "1    0.197246\n",
       "Name: Hipertension, dtype: float64"
      ]
     },
     "execution_count": 13,
     "metadata": {},
     "output_type": "execute_result"
    }
   ],
   "source": [
    "df['Hipertension'].value_counts(normalize=True)"
   ]
  },
  {
   "cell_type": "code",
   "execution_count": 14,
   "metadata": {},
   "outputs": [
    {
     "data": {
      "text/plain": [
       "0    0.901734\n",
       "1    0.098266\n",
       "Name: Scholarship, dtype: float64"
      ]
     },
     "execution_count": 14,
     "metadata": {},
     "output_type": "execute_result"
    }
   ],
   "source": [
    "df['Scholarship'].value_counts(normalize=True)"
   ]
  },
  {
   "cell_type": "code",
   "execution_count": 15,
   "metadata": {},
   "outputs": [
    {
     "data": {
      "text/plain": [
       "F    0.649977\n",
       "M    0.350023\n",
       "Name: Gender, dtype: float64"
      ]
     },
     "execution_count": 15,
     "metadata": {},
     "output_type": "execute_result"
    }
   ],
   "source": [
    "df['Gender'].value_counts(normalize=True)"
   ]
  },
  {
   "cell_type": "markdown",
   "metadata": {},
   "source": [
    "<a id='wrangling'></a>\n",
    "## Data Wrangling"
   ]
  },
  {
   "cell_type": "markdown",
   "metadata": {},
   "source": [
    "We noticed earlier that the Handcap feature has 5 categories and by inspecting that even further we can see that it's a score from 0 to 4 that represents the level of disability. For our analysis, we only need a true or false, hence we'll replace any value that's not 0 with 1 to represent some level of disability."
   ]
  },
  {
   "cell_type": "code",
   "execution_count": 16,
   "metadata": {},
   "outputs": [
    {
     "data": {
      "text/plain": [
       "array([0, 1, 2, 3, 4], dtype=int64)"
      ]
     },
     "execution_count": 16,
     "metadata": {},
     "output_type": "execute_result"
    }
   ],
   "source": [
    "df.Handcap.unique()"
   ]
  },
  {
   "cell_type": "code",
   "execution_count": 17,
   "metadata": {},
   "outputs": [],
   "source": [
    "# replace all values other than 0 with 1\n",
    "def label_HC(row):\n",
    "    if row['Handcap'] == 0:\n",
    "        return 0\n",
    "    return 1"
   ]
  },
  {
   "cell_type": "code",
   "execution_count": 18,
   "metadata": {},
   "outputs": [],
   "source": [
    "df['Handcap'] = df.apply(lambda x: label_HC(x), axis = 1)"
   ]
  },
  {
   "cell_type": "code",
   "execution_count": 19,
   "metadata": {},
   "outputs": [
    {
     "data": {
      "text/plain": [
       "array([0, 1], dtype=int64)"
      ]
     },
     "execution_count": 19,
     "metadata": {},
     "output_type": "execute_result"
    }
   ],
   "source": [
    "# confirm changes\n",
    "df.Handcap.unique()"
   ]
  },
  {
   "cell_type": "markdown",
   "metadata": {},
   "source": [
    "- For us to answer the first two questions we'll need to create two columns to represent the day of week and the time of day separately from the ScheduledDay column."
   ]
  },
  {
   "cell_type": "code",
   "execution_count": 20,
   "metadata": {},
   "outputs": [],
   "source": [
    "# convert our ScheduledDay column dtype to datetime and extract the day name and hour out of it\n",
    "df['ScheduledDay'] = pd.to_datetime(df['ScheduledDay'])\n",
    "df['days'] = df['ScheduledDay'].dt.day_name()\n",
    "df['hour'] = df['ScheduledDay'].dt.hour"
   ]
  },
  {
   "cell_type": "code",
   "execution_count": 21,
   "metadata": {},
   "outputs": [
    {
     "data": {
      "text/html": [
       "<div>\n",
       "<style scoped>\n",
       "    .dataframe tbody tr th:only-of-type {\n",
       "        vertical-align: middle;\n",
       "    }\n",
       "\n",
       "    .dataframe tbody tr th {\n",
       "        vertical-align: top;\n",
       "    }\n",
       "\n",
       "    .dataframe thead th {\n",
       "        text-align: right;\n",
       "    }\n",
       "</style>\n",
       "<table border=\"1\" class=\"dataframe\">\n",
       "  <thead>\n",
       "    <tr style=\"text-align: right;\">\n",
       "      <th></th>\n",
       "      <th>PatientId</th>\n",
       "      <th>AppointmentID</th>\n",
       "      <th>Gender</th>\n",
       "      <th>ScheduledDay</th>\n",
       "      <th>AppointmentDay</th>\n",
       "      <th>Age</th>\n",
       "      <th>Neighbourhood</th>\n",
       "      <th>Scholarship</th>\n",
       "      <th>Hipertension</th>\n",
       "      <th>Diabetes</th>\n",
       "      <th>Alcoholism</th>\n",
       "      <th>Handcap</th>\n",
       "      <th>SMS_received</th>\n",
       "      <th>No-show</th>\n",
       "      <th>days</th>\n",
       "      <th>hour</th>\n",
       "    </tr>\n",
       "  </thead>\n",
       "  <tbody>\n",
       "    <tr>\n",
       "      <th>0</th>\n",
       "      <td>2.987250e+13</td>\n",
       "      <td>5642903</td>\n",
       "      <td>F</td>\n",
       "      <td>2016-04-29 18:38:08+00:00</td>\n",
       "      <td>2016-04-29T00:00:00Z</td>\n",
       "      <td>62</td>\n",
       "      <td>JARDIM DA PENHA</td>\n",
       "      <td>0</td>\n",
       "      <td>1</td>\n",
       "      <td>0</td>\n",
       "      <td>0</td>\n",
       "      <td>0</td>\n",
       "      <td>0</td>\n",
       "      <td>No</td>\n",
       "      <td>Friday</td>\n",
       "      <td>18</td>\n",
       "    </tr>\n",
       "  </tbody>\n",
       "</table>\n",
       "</div>"
      ],
      "text/plain": [
       "      PatientId  AppointmentID Gender              ScheduledDay  \\\n",
       "0  2.987250e+13        5642903      F 2016-04-29 18:38:08+00:00   \n",
       "\n",
       "         AppointmentDay  Age    Neighbourhood  Scholarship  Hipertension  \\\n",
       "0  2016-04-29T00:00:00Z   62  JARDIM DA PENHA            0             1   \n",
       "\n",
       "   Diabetes  Alcoholism  Handcap  SMS_received No-show    days  hour  \n",
       "0         0           0        0             0      No  Friday    18  "
      ]
     },
     "execution_count": 21,
     "metadata": {},
     "output_type": "execute_result"
    }
   ],
   "source": [
    "# confirm changes\n",
    "df.head(1)"
   ]
  },
  {
   "cell_type": "markdown",
   "metadata": {},
   "source": [
    "We need to categorize the days column to be either weekday or weekend."
   ]
  },
  {
   "cell_type": "code",
   "execution_count": 22,
   "metadata": {},
   "outputs": [],
   "source": [
    "# categorize the days column to be either weekday or weekend\n",
    "def label_day(row):\n",
    "    if row['days'] == 'Monday':\n",
    "        return 'Weekday'\n",
    "    if row['days'] == 'Tuesday':\n",
    "        return 'Weekday'\n",
    "    if row['days'] == 'Wednesday':\n",
    "        return 'Weekday'\n",
    "    if row['days'] == 'Thursday':\n",
    "        return 'Weekday'\n",
    "    if row['days'] == 'Friday':\n",
    "        return 'Weekday'\n",
    "    if row['days'] == 'Saturday':\n",
    "        return 'Weekend'\n",
    "    if row['days'] == 'Sunday':\n",
    "        return 'Weekend'"
   ]
  },
  {
   "cell_type": "code",
   "execution_count": 23,
   "metadata": {},
   "outputs": [],
   "source": [
    "df['days'] = df.apply(lambda row: label_day(row), axis=1)"
   ]
  },
  {
   "cell_type": "code",
   "execution_count": 24,
   "metadata": {},
   "outputs": [
    {
     "data": {
      "text/html": [
       "<div>\n",
       "<style scoped>\n",
       "    .dataframe tbody tr th:only-of-type {\n",
       "        vertical-align: middle;\n",
       "    }\n",
       "\n",
       "    .dataframe tbody tr th {\n",
       "        vertical-align: top;\n",
       "    }\n",
       "\n",
       "    .dataframe thead th {\n",
       "        text-align: right;\n",
       "    }\n",
       "</style>\n",
       "<table border=\"1\" class=\"dataframe\">\n",
       "  <thead>\n",
       "    <tr style=\"text-align: right;\">\n",
       "      <th></th>\n",
       "      <th>PatientId</th>\n",
       "      <th>AppointmentID</th>\n",
       "      <th>Gender</th>\n",
       "      <th>ScheduledDay</th>\n",
       "      <th>AppointmentDay</th>\n",
       "      <th>Age</th>\n",
       "      <th>Neighbourhood</th>\n",
       "      <th>Scholarship</th>\n",
       "      <th>Hipertension</th>\n",
       "      <th>Diabetes</th>\n",
       "      <th>Alcoholism</th>\n",
       "      <th>Handcap</th>\n",
       "      <th>SMS_received</th>\n",
       "      <th>No-show</th>\n",
       "      <th>days</th>\n",
       "      <th>hour</th>\n",
       "    </tr>\n",
       "  </thead>\n",
       "  <tbody>\n",
       "    <tr>\n",
       "      <th>0</th>\n",
       "      <td>2.987250e+13</td>\n",
       "      <td>5642903</td>\n",
       "      <td>F</td>\n",
       "      <td>2016-04-29 18:38:08+00:00</td>\n",
       "      <td>2016-04-29T00:00:00Z</td>\n",
       "      <td>62</td>\n",
       "      <td>JARDIM DA PENHA</td>\n",
       "      <td>0</td>\n",
       "      <td>1</td>\n",
       "      <td>0</td>\n",
       "      <td>0</td>\n",
       "      <td>0</td>\n",
       "      <td>0</td>\n",
       "      <td>No</td>\n",
       "      <td>Weekday</td>\n",
       "      <td>18</td>\n",
       "    </tr>\n",
       "  </tbody>\n",
       "</table>\n",
       "</div>"
      ],
      "text/plain": [
       "      PatientId  AppointmentID Gender              ScheduledDay  \\\n",
       "0  2.987250e+13        5642903      F 2016-04-29 18:38:08+00:00   \n",
       "\n",
       "         AppointmentDay  Age    Neighbourhood  Scholarship  Hipertension  \\\n",
       "0  2016-04-29T00:00:00Z   62  JARDIM DA PENHA            0             1   \n",
       "\n",
       "   Diabetes  Alcoholism  Handcap  SMS_received No-show     days  hour  \n",
       "0         0           0        0             0      No  Weekday    18  "
      ]
     },
     "execution_count": 24,
     "metadata": {},
     "output_type": "execute_result"
    }
   ],
   "source": [
    "# confirm changes\n",
    "df.head(1)"
   ]
  },
  {
   "cell_type": "markdown",
   "metadata": {},
   "source": [
    "We now need to categorize the times into morning, afternoon, evening and night as per the following categories:\n",
    "- Morning: 5:00 to 12:00\n",
    "- Afternoon: 12:00 to 17:00\n",
    "- Evening: 17:00 to 21:00\n",
    "- Night: 21:00 to 4:00"
   ]
  },
  {
   "cell_type": "code",
   "execution_count": 25,
   "metadata": {},
   "outputs": [],
   "source": [
    "# categorize hour column to represent the time of day.\n",
    "def label_time(row):\n",
    "    if 5 <= row['hour'] < 12:\n",
    "        return 'Morning'\n",
    "    if 12 <= row['hour'] < 17:\n",
    "        return 'Afternoon'\n",
    "    if 17 <= row['hour'] < 21:\n",
    "        return 'Evening'\n",
    "    if 21 <= row['hour'] <= 4:\n",
    "        return 'Night'"
   ]
  },
  {
   "cell_type": "code",
   "execution_count": 26,
   "metadata": {},
   "outputs": [],
   "source": [
    "df['DayTime'] = df.apply(lambda x: label_time(x), axis=1)"
   ]
  },
  {
   "cell_type": "code",
   "execution_count": 27,
   "metadata": {},
   "outputs": [
    {
     "data": {
      "text/html": [
       "<div>\n",
       "<style scoped>\n",
       "    .dataframe tbody tr th:only-of-type {\n",
       "        vertical-align: middle;\n",
       "    }\n",
       "\n",
       "    .dataframe tbody tr th {\n",
       "        vertical-align: top;\n",
       "    }\n",
       "\n",
       "    .dataframe thead th {\n",
       "        text-align: right;\n",
       "    }\n",
       "</style>\n",
       "<table border=\"1\" class=\"dataframe\">\n",
       "  <thead>\n",
       "    <tr style=\"text-align: right;\">\n",
       "      <th></th>\n",
       "      <th>PatientId</th>\n",
       "      <th>AppointmentID</th>\n",
       "      <th>Gender</th>\n",
       "      <th>ScheduledDay</th>\n",
       "      <th>AppointmentDay</th>\n",
       "      <th>Age</th>\n",
       "      <th>Neighbourhood</th>\n",
       "      <th>Scholarship</th>\n",
       "      <th>Hipertension</th>\n",
       "      <th>Diabetes</th>\n",
       "      <th>Alcoholism</th>\n",
       "      <th>Handcap</th>\n",
       "      <th>SMS_received</th>\n",
       "      <th>No-show</th>\n",
       "      <th>days</th>\n",
       "      <th>hour</th>\n",
       "      <th>DayTime</th>\n",
       "    </tr>\n",
       "  </thead>\n",
       "  <tbody>\n",
       "    <tr>\n",
       "      <th>0</th>\n",
       "      <td>2.987250e+13</td>\n",
       "      <td>5642903</td>\n",
       "      <td>F</td>\n",
       "      <td>2016-04-29 18:38:08+00:00</td>\n",
       "      <td>2016-04-29T00:00:00Z</td>\n",
       "      <td>62</td>\n",
       "      <td>JARDIM DA PENHA</td>\n",
       "      <td>0</td>\n",
       "      <td>1</td>\n",
       "      <td>0</td>\n",
       "      <td>0</td>\n",
       "      <td>0</td>\n",
       "      <td>0</td>\n",
       "      <td>No</td>\n",
       "      <td>Weekday</td>\n",
       "      <td>18</td>\n",
       "      <td>Evening</td>\n",
       "    </tr>\n",
       "  </tbody>\n",
       "</table>\n",
       "</div>"
      ],
      "text/plain": [
       "      PatientId  AppointmentID Gender              ScheduledDay  \\\n",
       "0  2.987250e+13        5642903      F 2016-04-29 18:38:08+00:00   \n",
       "\n",
       "         AppointmentDay  Age    Neighbourhood  Scholarship  Hipertension  \\\n",
       "0  2016-04-29T00:00:00Z   62  JARDIM DA PENHA            0             1   \n",
       "\n",
       "   Diabetes  Alcoholism  Handcap  SMS_received No-show     days  hour  DayTime  \n",
       "0         0           0        0             0      No  Weekday    18  Evening  "
      ]
     },
     "execution_count": 27,
     "metadata": {},
     "output_type": "execute_result"
    }
   ],
   "source": [
    "# confirm changes\n",
    "df.head(1)"
   ]
  },
  {
   "cell_type": "code",
   "execution_count": 28,
   "metadata": {},
   "outputs": [
    {
     "data": {
      "text/plain": [
       "Morning      68481\n",
       "Afternoon    37206\n",
       "Evening       4837\n",
       "Name: DayTime, dtype: int64"
      ]
     },
     "execution_count": 28,
     "metadata": {},
     "output_type": "execute_result"
    }
   ],
   "source": [
    "# check the distribution of values across different times of day\n",
    "df.DayTime.value_counts()"
   ]
  },
  {
   "cell_type": "markdown",
   "metadata": {},
   "source": [
    "### Data Cleaning"
   ]
  },
  {
   "cell_type": "code",
   "execution_count": 29,
   "metadata": {},
   "outputs": [
    {
     "data": {
      "text/plain": [
       "(-1.117, 6.733]      13253\n",
       "(45.4, 53.133]       12482\n",
       "(29.933, 37.667]     12006\n",
       "(37.667, 45.4]       11469\n",
       "(14.467, 22.2]       11419\n",
       "(53.133, 60.867]     10697\n",
       "(6.733, 14.467]      10005\n",
       "(60.867, 68.6]        9633\n",
       "(22.2, 29.933]        9434\n",
       "(68.6, 76.333]        5308\n",
       "(76.333, 84.067]      3386\n",
       "(84.067, 91.8]        1193\n",
       "(91.8, 99.533]         231\n",
       "(99.533, 107.267]        6\n",
       "(107.267, 115.0]         5\n",
       "Name: Age, dtype: int64"
      ]
     },
     "execution_count": 29,
     "metadata": {},
     "output_type": "execute_result"
    }
   ],
   "source": [
    "# to check the distributopn of ages across the dataset\n",
    "df['Age'].value_counts(bins=15)"
   ]
  },
  {
   "cell_type": "markdown",
   "metadata": {},
   "source": [
    "We notice that there's a negative age value which was probably added by mistake, let's see how many negative values are there in the age column:"
   ]
  },
  {
   "cell_type": "code",
   "execution_count": 30,
   "metadata": {},
   "outputs": [
    {
     "data": {
      "text/plain": [
       "1"
      ]
     },
     "execution_count": 30,
     "metadata": {},
     "output_type": "execute_result"
    }
   ],
   "source": [
    "(df['Age'] < 0).sum()"
   ]
  },
  {
   "cell_type": "markdown",
   "metadata": {},
   "source": [
    "We can see it's only one row that has that negative value so it won't affect our analysis that much. Let's fill that negative age value with the mean value for the age column and do a quick sanity check:"
   ]
  },
  {
   "cell_type": "code",
   "execution_count": 31,
   "metadata": {},
   "outputs": [],
   "source": [
    "# replace any negative age value with the mean age\n",
    "def fill_age(row):\n",
    "    if row['Age'] < 0:\n",
    "        return df['Age'].mean()\n",
    "    return row['Age']\n",
    "\n",
    "df['Age'] = df.apply(lambda x: fill_age(x), axis=1)"
   ]
  },
  {
   "cell_type": "code",
   "execution_count": 32,
   "metadata": {},
   "outputs": [
    {
     "data": {
      "text/plain": [
       "0"
      ]
     },
     "execution_count": 32,
     "metadata": {},
     "output_type": "execute_result"
    }
   ],
   "source": [
    "# confirm changes\n",
    "(df['Age'] < 0).sum()"
   ]
  },
  {
   "cell_type": "code",
   "execution_count": 33,
   "metadata": {},
   "outputs": [
    {
     "data": {
      "image/png": "[encoded data removed]",
      "text/plain": [
       "<Figure size 864x576 with 1 Axes>"
      ]
     },
     "metadata": {
      "needs_background": "light"
     },
     "output_type": "display_data"
    }
   ],
   "source": [
    "# to visualize the distributopn of ages across the dataset\n",
    "df['Age'].value_counts(bins=15).plot.bar(width=0.8, figsize=(12,8))\n",
    "plt.title('Distribution of Ages')\n",
    "plt.xlabel('Age Groups')\n",
    "plt.ylabel('Frequency');"
   ]
  },
  {
   "cell_type": "markdown",
   "metadata": {},
   "source": [
    "<a id='eda'></a>\n",
    "## Exploratory Data Analysis\n",
    "\n",
    "#### _It's crtical to mention that our findings in this section are tentative not final as we haven't yet employed any inferential statistics or machine learning techniques to validate them._\n",
    "\n",
    "### Q1: Does the scheduled day being a weekday or a weekend affect whether or not the patient show up?"
   ]
  },
  {
   "cell_type": "markdown",
   "metadata": {},
   "source": [
    "In order to compare the show-up rates between the different times of the day, we need compare the percentages not the actual values."
   ]
  },
  {
   "cell_type": "code",
   "execution_count": 34,
   "metadata": {},
   "outputs": [
    {
     "data": {
      "text/html": [
       "<div>\n",
       "<style scoped>\n",
       "    .dataframe tbody tr th:only-of-type {\n",
       "        vertical-align: middle;\n",
       "    }\n",
       "\n",
       "    .dataframe tbody tr th {\n",
       "        vertical-align: top;\n",
       "    }\n",
       "\n",
       "    .dataframe thead th {\n",
       "        text-align: right;\n",
       "    }\n",
       "</style>\n",
       "<table border=\"1\" class=\"dataframe\">\n",
       "  <thead>\n",
       "    <tr style=\"text-align: right;\">\n",
       "      <th>No-show</th>\n",
       "      <th>No</th>\n",
       "      <th>Yes</th>\n",
       "      <th>Total</th>\n",
       "      <th>No_perc</th>\n",
       "      <th>Yes_perc</th>\n",
       "    </tr>\n",
       "    <tr>\n",
       "      <th>days</th>\n",
       "      <th></th>\n",
       "      <th></th>\n",
       "      <th></th>\n",
       "      <th></th>\n",
       "      <th></th>\n",
       "    </tr>\n",
       "  </thead>\n",
       "  <tbody>\n",
       "    <tr>\n",
       "      <th>Weekday</th>\n",
       "      <td>88185</td>\n",
       "      <td>22318</td>\n",
       "      <td>110503</td>\n",
       "      <td>0.798033</td>\n",
       "      <td>0.201967</td>\n",
       "    </tr>\n",
       "    <tr>\n",
       "      <th>Weekend</th>\n",
       "      <td>23</td>\n",
       "      <td>1</td>\n",
       "      <td>24</td>\n",
       "      <td>0.958333</td>\n",
       "      <td>0.041667</td>\n",
       "    </tr>\n",
       "  </tbody>\n",
       "</table>\n",
       "</div>"
      ],
      "text/plain": [
       "No-show     No    Yes   Total   No_perc  Yes_perc\n",
       "days                                             \n",
       "Weekday  88185  22318  110503  0.798033  0.201967\n",
       "Weekend     23      1      24  0.958333  0.041667"
      ]
     },
     "execution_count": 34,
     "metadata": {},
     "output_type": "execute_result"
    }
   ],
   "source": [
    "# group by the variables of interest and extract the percentages\n",
    "\n",
    "day_showrate = df.groupby(['days', 'No-show'])['days'].count().unstack()\n",
    "day_showrate['Total'] = day_showrate['No'] + day_showrate['Yes']\n",
    "day_showrate['No_perc'] = day_showrate['No'] / day_showrate['Total']\n",
    "day_showrate['Yes_perc'] = day_showrate['Yes'] / day_showrate['Total']\n",
    "day_showrate"
   ]
  },
  {
   "cell_type": "markdown",
   "metadata": {},
   "source": [
    "Based on the above numbers, we find that the **no-show rate is higher for weekdays than it is for weekends.** So, we can say that if a patient has an appointment on a weekend he's more likely to show up than if the appointment was on a weekday. \n",
    "\n",
    "Still, we can see that the dataset we have has very few appointments on weekends, which would make our finding not conclusive. \n",
    "\n",
    "Below we can see that finding visually:"
   ]
  },
  {
   "cell_type": "code",
   "execution_count": 35,
   "metadata": {},
   "outputs": [
    {
     "data": {
      "image/png": "[encoded data removed]",
      "text/plain": [
       "<Figure size 864x576 with 1 Axes>"
      ]
     },
     "metadata": {
      "needs_background": "light"
     },
     "output_type": "display_data"
    }
   ],
   "source": [
    "# plot the columns of interest on a bar chart for comparison\n",
    "day_showrate.drop(['No', 'Yes', 'Total'], axis=1).plot.bar(figsize=(12,8), width=0.8)\n",
    "plt.title('Weekdays VS Weekends')\n",
    "plt.ylabel('No-Show Rate');\n",
    "# Note that the Yes-perc stands for the percentage of patients who didn't show up in each group"
   ]
  },
  {
   "cell_type": "markdown",
   "metadata": {},
   "source": [
    "### Q2: How does the show rate change between morning, afternoon, and late appointments?"
   ]
  },
  {
   "cell_type": "markdown",
   "metadata": {},
   "source": [
    "In order to compare the show-up rates between the different times of the day, we need compare the percentages not the actual values."
   ]
  },
  {
   "cell_type": "code",
   "execution_count": 36,
   "metadata": {},
   "outputs": [],
   "source": [
    "# group by the variables of interest and extract the percentages\n",
    "\n",
    "dt_showrate = df.groupby([\"DayTime\", \"No-show\"])[\"DayTime\"].count().unstack()\n",
    "dt_showrate['Total'] = dt_showrate['No'] + dt_showrate['Yes']\n",
    "dt_showrate['No_perc'] = dt_showrate['No'] / dt_showrate['Total']\n",
    "dt_showrate['Yes_perc'] = dt_showrate['Yes'] / dt_showrate['Total']"
   ]
  },
  {
   "cell_type": "code",
   "execution_count": 37,
   "metadata": {},
   "outputs": [
    {
     "data": {
      "text/html": [
       "<div>\n",
       "<style scoped>\n",
       "    .dataframe tbody tr th:only-of-type {\n",
       "        vertical-align: middle;\n",
       "    }\n",
       "\n",
       "    .dataframe tbody tr th {\n",
       "        vertical-align: top;\n",
       "    }\n",
       "\n",
       "    .dataframe thead th {\n",
       "        text-align: right;\n",
       "    }\n",
       "</style>\n",
       "<table border=\"1\" class=\"dataframe\">\n",
       "  <thead>\n",
       "    <tr style=\"text-align: right;\">\n",
       "      <th>No-show</th>\n",
       "      <th>No</th>\n",
       "      <th>Yes</th>\n",
       "      <th>Total</th>\n",
       "      <th>No_perc</th>\n",
       "      <th>Yes_perc</th>\n",
       "    </tr>\n",
       "    <tr>\n",
       "      <th>DayTime</th>\n",
       "      <th></th>\n",
       "      <th></th>\n",
       "      <th></th>\n",
       "      <th></th>\n",
       "      <th></th>\n",
       "    </tr>\n",
       "  </thead>\n",
       "  <tbody>\n",
       "    <tr>\n",
       "      <th>Afternoon</th>\n",
       "      <td>28951</td>\n",
       "      <td>8255</td>\n",
       "      <td>37206</td>\n",
       "      <td>0.778127</td>\n",
       "      <td>0.221873</td>\n",
       "    </tr>\n",
       "    <tr>\n",
       "      <th>Evening</th>\n",
       "      <td>3686</td>\n",
       "      <td>1151</td>\n",
       "      <td>4837</td>\n",
       "      <td>0.762043</td>\n",
       "      <td>0.237957</td>\n",
       "    </tr>\n",
       "    <tr>\n",
       "      <th>Morning</th>\n",
       "      <td>55569</td>\n",
       "      <td>12912</td>\n",
       "      <td>68481</td>\n",
       "      <td>0.811451</td>\n",
       "      <td>0.188549</td>\n",
       "    </tr>\n",
       "  </tbody>\n",
       "</table>\n",
       "</div>"
      ],
      "text/plain": [
       "No-show       No    Yes  Total   No_perc  Yes_perc\n",
       "DayTime                                           \n",
       "Afternoon  28951   8255  37206  0.778127  0.221873\n",
       "Evening     3686   1151   4837  0.762043  0.237957\n",
       "Morning    55569  12912  68481  0.811451  0.188549"
      ]
     },
     "execution_count": 37,
     "metadata": {},
     "output_type": "execute_result"
    }
   ],
   "source": [
    "dt_showrate"
   ]
  },
  {
   "cell_type": "markdown",
   "metadata": {},
   "source": [
    "Based on the above numbers, we find that the **no-show rate is highest in the evening then the afternoon and lowest in the morning**, even though the bulk of the appointments are made in the morning and the afternoon. \n",
    "\n",
    "Hence, we can say that if a patient has an appoinment in the morning or the afternoon, he's more likely to show up than if it was in the evening. \n",
    "\n",
    "Below we can see that finding visually:"
   ]
  },
  {
   "cell_type": "code",
   "execution_count": 38,
   "metadata": {
    "scrolled": false
   },
   "outputs": [
    {
     "data": {
      "image/png": "[encoded data removed]",
      "text/plain": [
       "<Figure size 864x576 with 1 Axes>"
      ]
     },
     "metadata": {
      "needs_background": "light"
     },
     "output_type": "display_data"
    }
   ],
   "source": [
    "# plot the columns of interest on a bar chart for comparison\n",
    "dt_showrate.drop(['No', 'Yes', 'Total'], axis=1).plot.bar(figsize=(12,8), width=0.8);\n",
    "plt.ylabel('No-Show Rate')\n",
    "plt.title('Different times of day');\n",
    "# Note that the Yes-perc stands for the percentage of patients who didn't show up in each group"
   ]
  },
  {
   "cell_type": "markdown",
   "metadata": {},
   "source": [
    "### Q3: How does the show rate change between different age groups?"
   ]
  },
  {
   "cell_type": "markdown",
   "metadata": {},
   "source": [
    "In order to compare the show-up rates between different age groups, we need to compute the percentages for show-ups and no-shows for each age group."
   ]
  },
  {
   "cell_type": "code",
   "execution_count": 39,
   "metadata": {},
   "outputs": [
    {
     "data": {
      "text/html": [
       "<div>\n",
       "<style scoped>\n",
       "    .dataframe tbody tr th:only-of-type {\n",
       "        vertical-align: middle;\n",
       "    }\n",
       "\n",
       "    .dataframe tbody tr th {\n",
       "        vertical-align: top;\n",
       "    }\n",
       "\n",
       "    .dataframe thead th {\n",
       "        text-align: right;\n",
       "    }\n",
       "</style>\n",
       "<table border=\"1\" class=\"dataframe\">\n",
       "  <thead>\n",
       "    <tr style=\"text-align: right;\">\n",
       "      <th>No-show</th>\n",
       "      <th>Age</th>\n",
       "      <th>No</th>\n",
       "      <th>Yes</th>\n",
       "      <th>Total</th>\n",
       "      <th>No_perc</th>\n",
       "      <th>Yes_perc</th>\n",
       "    </tr>\n",
       "  </thead>\n",
       "  <tbody>\n",
       "    <tr>\n",
       "      <th>0</th>\n",
       "      <td>0.0</td>\n",
       "      <td>2900.0</td>\n",
       "      <td>639.0</td>\n",
       "      <td>3539.0</td>\n",
       "      <td>0.819441</td>\n",
       "      <td>0.180559</td>\n",
       "    </tr>\n",
       "    <tr>\n",
       "      <th>1</th>\n",
       "      <td>1.0</td>\n",
       "      <td>1858.0</td>\n",
       "      <td>415.0</td>\n",
       "      <td>2273.0</td>\n",
       "      <td>0.817422</td>\n",
       "      <td>0.182578</td>\n",
       "    </tr>\n",
       "    <tr>\n",
       "      <th>2</th>\n",
       "      <td>2.0</td>\n",
       "      <td>1366.0</td>\n",
       "      <td>252.0</td>\n",
       "      <td>1618.0</td>\n",
       "      <td>0.844252</td>\n",
       "      <td>0.155748</td>\n",
       "    </tr>\n",
       "    <tr>\n",
       "      <th>3</th>\n",
       "      <td>3.0</td>\n",
       "      <td>1236.0</td>\n",
       "      <td>277.0</td>\n",
       "      <td>1513.0</td>\n",
       "      <td>0.816920</td>\n",
       "      <td>0.183080</td>\n",
       "    </tr>\n",
       "    <tr>\n",
       "      <th>4</th>\n",
       "      <td>4.0</td>\n",
       "      <td>1017.0</td>\n",
       "      <td>282.0</td>\n",
       "      <td>1299.0</td>\n",
       "      <td>0.782910</td>\n",
       "      <td>0.217090</td>\n",
       "    </tr>\n",
       "  </tbody>\n",
       "</table>\n",
       "</div>"
      ],
      "text/plain": [
       "No-show  Age      No    Yes   Total   No_perc  Yes_perc\n",
       "0        0.0  2900.0  639.0  3539.0  0.819441  0.180559\n",
       "1        1.0  1858.0  415.0  2273.0  0.817422  0.182578\n",
       "2        2.0  1366.0  252.0  1618.0  0.844252  0.155748\n",
       "3        3.0  1236.0  277.0  1513.0  0.816920  0.183080\n",
       "4        4.0  1017.0  282.0  1299.0  0.782910  0.217090"
      ]
     },
     "execution_count": 39,
     "metadata": {},
     "output_type": "execute_result"
    }
   ],
   "source": [
    "# group by the variables of interest and extract the percentages\n",
    "\n",
    "age_showrate = df.groupby(['Age', 'No-show'])['Age'].count().unstack().reset_index()\n",
    "age_showrate['Total'] = age_showrate['No'] + age_showrate['Yes']\n",
    "age_showrate['No_perc'] = age_showrate['No'] / age_showrate['Total']\n",
    "age_showrate['Yes_perc'] = age_showrate['Yes'] / age_showrate['Total']\n",
    "age_showrate.head()"
   ]
  },
  {
   "cell_type": "code",
   "execution_count": 40,
   "metadata": {},
   "outputs": [
    {
     "data": {
      "image/png": "[encoded data removed]",
      "text/plain": [
       "<Figure size 1440x576 with 2 Axes>"
      ]
     },
     "metadata": {
      "needs_background": "light"
     },
     "output_type": "display_data"
    }
   ],
   "source": [
    "# scatter plot to viualize the different age groups\n",
    "\n",
    "f, ax = plt.subplots(figsize=(20, 8))\n",
    "plt.subplot(1, 2, 1)\n",
    "plt.scatter(x='Age', y='Yes_perc', data=age_showrate)\n",
    "plt.title(\"Age VS No-show Rate\")\n",
    "plt.ylabel('No-show rate')\n",
    "plt.xlabel('Age')\n",
    "plt.subplot(1, 2, 2)\n",
    "plt.scatter(x='Age', y='No_perc', data=age_showrate)\n",
    "plt.title(\"Age VS Show-up Rate\")\n",
    "plt.ylabel('Show-up rate')\n",
    "plt.xlabel('Age');"
   ]
  },
  {
   "cell_type": "markdown",
   "metadata": {},
   "source": [
    "Based on the above figure, \n",
    "\n",
    "- left-side: We find that the **no-show rate is highest** for the age group **around 20 (~ 15:~ 30)** and for the age group **older than 90** than it is for other age groups.\n",
    "- right-side: We find that the **show-up rate is highest** for the **newborn group up to 3 years old** and for the age group **around 70 (~ 60:~ 80)** than it is for other age groups.\n",
    "\n",
    "Hence, we can say how likely a patient would show up for an appointment based on the age group he belongs to."
   ]
  },
  {
   "cell_type": "markdown",
   "metadata": {},
   "source": [
    "### Q4: How does the show rate change based on gender?"
   ]
  },
  {
   "cell_type": "markdown",
   "metadata": {},
   "source": [
    "In order to compare the show-up rates between different genders, we need compare the percentages not the actual values. Let's compute the percentages for both genders:"
   ]
  },
  {
   "cell_type": "code",
   "execution_count": 41,
   "metadata": {},
   "outputs": [
    {
     "data": {
      "text/html": [
       "<div>\n",
       "<style scoped>\n",
       "    .dataframe tbody tr th:only-of-type {\n",
       "        vertical-align: middle;\n",
       "    }\n",
       "\n",
       "    .dataframe tbody tr th {\n",
       "        vertical-align: top;\n",
       "    }\n",
       "\n",
       "    .dataframe thead th {\n",
       "        text-align: right;\n",
       "    }\n",
       "</style>\n",
       "<table border=\"1\" class=\"dataframe\">\n",
       "  <thead>\n",
       "    <tr style=\"text-align: right;\">\n",
       "      <th>No-show</th>\n",
       "      <th>No</th>\n",
       "      <th>Yes</th>\n",
       "      <th>Total</th>\n",
       "      <th>No_perc</th>\n",
       "      <th>Yes_perc</th>\n",
       "    </tr>\n",
       "    <tr>\n",
       "      <th>Gender</th>\n",
       "      <th></th>\n",
       "      <th></th>\n",
       "      <th></th>\n",
       "      <th></th>\n",
       "      <th></th>\n",
       "    </tr>\n",
       "  </thead>\n",
       "  <tbody>\n",
       "    <tr>\n",
       "      <th>F</th>\n",
       "      <td>57246</td>\n",
       "      <td>14594</td>\n",
       "      <td>71840</td>\n",
       "      <td>0.796854</td>\n",
       "      <td>0.203146</td>\n",
       "    </tr>\n",
       "    <tr>\n",
       "      <th>M</th>\n",
       "      <td>30962</td>\n",
       "      <td>7725</td>\n",
       "      <td>38687</td>\n",
       "      <td>0.800321</td>\n",
       "      <td>0.199679</td>\n",
       "    </tr>\n",
       "  </tbody>\n",
       "</table>\n",
       "</div>"
      ],
      "text/plain": [
       "No-show     No    Yes  Total   No_perc  Yes_perc\n",
       "Gender                                          \n",
       "F        57246  14594  71840  0.796854  0.203146\n",
       "M        30962   7725  38687  0.800321  0.199679"
      ]
     },
     "execution_count": 41,
     "metadata": {},
     "output_type": "execute_result"
    }
   ],
   "source": [
    "# group by the variables of interest and extract the percentages\n",
    "\n",
    "gender_showrate = df.groupby(['Gender', 'No-show'])['Gender'].count().unstack()\n",
    "gender_showrate['Total'] = gender_showrate['No'] + gender_showrate['Yes']\n",
    "gender_showrate['No_perc'] = gender_showrate['No'] / gender_showrate['Total']\n",
    "gender_showrate['Yes_perc'] = gender_showrate['Yes'] / gender_showrate['Total']\n",
    "gender_showrate"
   ]
  },
  {
   "cell_type": "markdown",
   "metadata": {},
   "source": [
    "Based on the above numbers, we find that the no-show rate is **almost identical** between males and females. Hence, we can say that gender has no statistical effect on whether a patient would show up or not.\n",
    "\n",
    "Below we can see that finding visually:"
   ]
  },
  {
   "cell_type": "code",
   "execution_count": 42,
   "metadata": {},
   "outputs": [
    {
     "data": {
      "image/png": "[encoded data removed]",
      "text/plain": [
       "<Figure size 864x576 with 1 Axes>"
      ]
     },
     "metadata": {
      "needs_background": "light"
     },
     "output_type": "display_data"
    }
   ],
   "source": [
    "# plot the columns of interest on a bar chart for comparison\n",
    "gender_showrate.drop(['No', 'Yes', 'Total'], axis=1).plot.bar(figsize=(12,8), width=0.8)\n",
    "plt.title('No-show rates for different genders')\n",
    "plt.ylabel('No-show Rate');\n",
    "# Note that the Yes-perc stands for the percentage of patients who didn't show up in each group"
   ]
  },
  {
   "cell_type": "markdown",
   "metadata": {},
   "source": [
    "### Q5: Does having a scholarship affect whether or not a patient would show up?"
   ]
  },
  {
   "cell_type": "markdown",
   "metadata": {},
   "source": [
    "Let's compute the percentages of the patients with a scholarship VS those without a scholarship:"
   ]
  },
  {
   "cell_type": "code",
   "execution_count": 43,
   "metadata": {},
   "outputs": [
    {
     "data": {
      "text/html": [
       "<div>\n",
       "<style scoped>\n",
       "    .dataframe tbody tr th:only-of-type {\n",
       "        vertical-align: middle;\n",
       "    }\n",
       "\n",
       "    .dataframe tbody tr th {\n",
       "        vertical-align: top;\n",
       "    }\n",
       "\n",
       "    .dataframe thead th {\n",
       "        text-align: right;\n",
       "    }\n",
       "</style>\n",
       "<table border=\"1\" class=\"dataframe\">\n",
       "  <thead>\n",
       "    <tr style=\"text-align: right;\">\n",
       "      <th>No-show</th>\n",
       "      <th>No</th>\n",
       "      <th>Yes</th>\n",
       "      <th>Total</th>\n",
       "      <th>No_perc</th>\n",
       "      <th>Yes_perc</th>\n",
       "    </tr>\n",
       "  </thead>\n",
       "  <tbody>\n",
       "    <tr>\n",
       "      <th>False</th>\n",
       "      <td>79925</td>\n",
       "      <td>19741</td>\n",
       "      <td>99666</td>\n",
       "      <td>0.801928</td>\n",
       "      <td>0.198072</td>\n",
       "    </tr>\n",
       "    <tr>\n",
       "      <th>True</th>\n",
       "      <td>8283</td>\n",
       "      <td>2578</td>\n",
       "      <td>10861</td>\n",
       "      <td>0.762637</td>\n",
       "      <td>0.237363</td>\n",
       "    </tr>\n",
       "  </tbody>\n",
       "</table>\n",
       "</div>"
      ],
      "text/plain": [
       "No-show     No    Yes  Total   No_perc  Yes_perc\n",
       "False    79925  19741  99666  0.801928  0.198072\n",
       "True      8283   2578  10861  0.762637  0.237363"
      ]
     },
     "execution_count": 43,
     "metadata": {},
     "output_type": "execute_result"
    }
   ],
   "source": [
    "# group by the variables of interest and extract the percentages\n",
    "\n",
    "schol_showrate = df.groupby(['Scholarship', 'No-show'])['Scholarship'].count().unstack()\n",
    "schol_showrate['Total'] = schol_showrate['No'] + schol_showrate['Yes']\n",
    "schol_showrate['No_perc'] = schol_showrate['No'] / schol_showrate['Total']\n",
    "schol_showrate['Yes_perc'] = schol_showrate['Yes'] / schol_showrate['Total']\n",
    "schol_showrate.index = ['False', 'True']\n",
    "schol_showrate"
   ]
  },
  {
   "cell_type": "markdown",
   "metadata": {},
   "source": [
    "Based on the above numbers, we can see that a patient who has a scholarship is **slightly more likely not to show up** than a patient who doesn't have a scholarship.\n",
    "\n",
    "Below we can visualize that finding:"
   ]
  },
  {
   "cell_type": "code",
   "execution_count": 44,
   "metadata": {},
   "outputs": [
    {
     "data": {
      "image/png": "[encoded data removed]",
      "text/plain": [
       "<Figure size 864x576 with 1 Axes>"
      ]
     },
     "metadata": {
      "needs_background": "light"
     },
     "output_type": "display_data"
    }
   ],
   "source": [
    "# plot the columns of interest on a bar chart for comparison\n",
    "schol_showrate.drop(['No', 'Yes', 'Total'], axis=1).plot.bar(figsize=(12,8), width=0.8);\n",
    "plt.title('No-show rates for scholarship winners VS non-winners')\n",
    "plt.xlabel('Scholarship')\n",
    "plt.ylabel('No-show Rate');\n",
    "# Note that the Yes-perc stands for the percentage of patients who didn't show up in each group"
   ]
  },
  {
   "cell_type": "markdown",
   "metadata": {},
   "source": [
    "### Q6: Would recieving an SMS affect the patient show-up rate?"
   ]
  },
  {
   "cell_type": "markdown",
   "metadata": {},
   "source": [
    "Let's first compute how many patients showed up while recieving an SMS and how many didn't:"
   ]
  },
  {
   "cell_type": "code",
   "execution_count": 45,
   "metadata": {},
   "outputs": [
    {
     "data": {
      "text/html": [
       "<div>\n",
       "<style scoped>\n",
       "    .dataframe tbody tr th:only-of-type {\n",
       "        vertical-align: middle;\n",
       "    }\n",
       "\n",
       "    .dataframe tbody tr th {\n",
       "        vertical-align: top;\n",
       "    }\n",
       "\n",
       "    .dataframe thead th {\n",
       "        text-align: right;\n",
       "    }\n",
       "</style>\n",
       "<table border=\"1\" class=\"dataframe\">\n",
       "  <thead>\n",
       "    <tr style=\"text-align: right;\">\n",
       "      <th>No-show</th>\n",
       "      <th>No</th>\n",
       "      <th>Yes</th>\n",
       "      <th>Total</th>\n",
       "      <th>No_perc</th>\n",
       "      <th>Yes_perc</th>\n",
       "    </tr>\n",
       "  </thead>\n",
       "  <tbody>\n",
       "    <tr>\n",
       "      <th>False</th>\n",
       "      <td>62510</td>\n",
       "      <td>12535</td>\n",
       "      <td>75045</td>\n",
       "      <td>0.832967</td>\n",
       "      <td>0.167033</td>\n",
       "    </tr>\n",
       "    <tr>\n",
       "      <th>True</th>\n",
       "      <td>25698</td>\n",
       "      <td>9784</td>\n",
       "      <td>35482</td>\n",
       "      <td>0.724255</td>\n",
       "      <td>0.275745</td>\n",
       "    </tr>\n",
       "  </tbody>\n",
       "</table>\n",
       "</div>"
      ],
      "text/plain": [
       "No-show     No    Yes  Total   No_perc  Yes_perc\n",
       "False    62510  12535  75045  0.832967  0.167033\n",
       "True     25698   9784  35482  0.724255  0.275745"
      ]
     },
     "execution_count": 45,
     "metadata": {},
     "output_type": "execute_result"
    }
   ],
   "source": [
    "# group by the variables of interest and extract the percentages\n",
    "\n",
    "sms_showrate = df.groupby(['SMS_received', 'No-show'])['SMS_received'].count().unstack()\n",
    "sms_showrate['Total'] = sms_showrate['No'] + sms_showrate['Yes']\n",
    "sms_showrate['No_perc'] = sms_showrate['No'] / sms_showrate['Total']\n",
    "sms_showrate['Yes_perc'] = sms_showrate['Yes'] / sms_showrate['Total']\n",
    "sms_showrate.index = ['False', 'True']\n",
    "sms_showrate"
   ]
  },
  {
   "cell_type": "code",
   "execution_count": 46,
   "metadata": {},
   "outputs": [
    {
     "data": {
      "image/png": "[encoded data removed]",
      "text/plain": [
       "<Figure size 864x576 with 1 Axes>"
      ]
     },
     "metadata": {
      "needs_background": "light"
     },
     "output_type": "display_data"
    }
   ],
   "source": [
    "# plot the columns of interest on a bar chart for comparison\n",
    "sms_showrate.drop(['No', 'Yes', 'Total'], axis=1).plot.bar(figsize=(12,8), width=0.8)\n",
    "plt.title('No-show rates for SMS receivers VS non-receivers')\n",
    "plt.xlabel('SMS')\n",
    "plt.ylabel('No-show Rate');\n",
    "# Note that the Yes-perc stands for the percentage of patients who didn't show up in each group"
   ]
  },
  {
   "cell_type": "markdown",
   "metadata": {},
   "source": [
    "Based on the above chart, we can see that the patients **who recieved a message were more likely not to show up** than those who didn't recieve a message, **which might sound counter-intuitive**.\n",
    "\n",
    "It would take some field-specific knowledge in order to dig deeper into why this is the case as we need to know the basis on which we send a message to a patient because **maybe we're only sending messages to a subset of patients** who have a low show-up rate already due to other factors, in which case the patients' selection would be biased for that feature."
   ]
  },
  {
   "cell_type": "markdown",
   "metadata": {},
   "source": [
    "### Q7: Which patients have more chance of showing up between those who have Hipertension, Diabetes, Alcoholism and Handcap?"
   ]
  },
  {
   "cell_type": "code",
   "execution_count": 47,
   "metadata": {},
   "outputs": [],
   "source": [
    "# In order to be able to calculate the correlation for the other variables with the no-show rate,\n",
    "# we'll need to exchange the values we have in it with dummy numerical values, zeros and ones in this case.\n",
    "\n",
    "df['No_show'] = df['No-show']   # we'll use that just to copy the original column.\n",
    "df['No-show'] = df['No-show'].str.get_dummies()"
   ]
  },
  {
   "cell_type": "code",
   "execution_count": 48,
   "metadata": {},
   "outputs": [
    {
     "data": {
      "text/plain": [
       "0.035701177345014976"
      ]
     },
     "execution_count": 48,
     "metadata": {},
     "output_type": "execute_result"
    }
   ],
   "source": [
    "# we'll calculate the correlation for each of the values with the no-show rate.\n",
    "hiper_showrate = df['Hipertension'].corr(df['No-show'])\n",
    "hiper_showrate"
   ]
  },
  {
   "cell_type": "code",
   "execution_count": 49,
   "metadata": {},
   "outputs": [
    {
     "data": {
      "text/plain": [
       "0.01517994382077367"
      ]
     },
     "execution_count": 49,
     "metadata": {},
     "output_type": "execute_result"
    }
   ],
   "source": [
    "diab_showrate = df['Diabetes'].corr(df['No-show'])\n",
    "diab_showrate"
   ]
  },
  {
   "cell_type": "code",
   "execution_count": 50,
   "metadata": {},
   "outputs": [
    {
     "data": {
      "text/plain": [
       "0.007280745542466035"
      ]
     },
     "execution_count": 50,
     "metadata": {},
     "output_type": "execute_result"
    }
   ],
   "source": [
    "hand_showrate = df['Handcap'].corr(df['No-show'])\n",
    "hand_showrate"
   ]
  },
  {
   "cell_type": "code",
   "execution_count": 51,
   "metadata": {},
   "outputs": [
    {
     "data": {
      "text/plain": [
       "0.00019604372362816503"
      ]
     },
     "execution_count": 51,
     "metadata": {},
     "output_type": "execute_result"
    }
   ],
   "source": [
    "alc_showrate = df['Alcoholism'].corr(df['No-show'])\n",
    "alc_showrate"
   ]
  },
  {
   "cell_type": "markdown",
   "metadata": {},
   "source": [
    "From the above numbers we can say that Hipertension patients are the most likely to show up then the Diabetes then the Handcap patients and the least likely to show up are Alcoholism patients.\n",
    "\n",
    "Still that finding is **not conclusive** as the numbers of patients in each category are not fairly distributed. For example in the whole dataset we have around 22k Hipertension patients but only 3.3k Alcoholism patients.\n",
    "\n",
    "We can visualize the numbers here:"
   ]
  },
  {
   "cell_type": "code",
   "execution_count": 52,
   "metadata": {},
   "outputs": [
    {
     "data": {
      "image/png": "[encoded data removed]",
      "text/plain": [
       "<Figure size 576x576 with 1 Axes>"
      ]
     },
     "metadata": {
      "needs_background": "light"
     },
     "output_type": "display_data"
    }
   ],
   "source": [
    "# plot the values of interest on a bar chart for comparison\n",
    "f, ax = plt.subplots(figsize=(8,8))\n",
    "plt.bar(x=df.columns[8:12],\n",
    "        height=[hiper_showrate, diab_showrate, alc_showrate, hand_showrate])\n",
    "plt.title('Correlation between different illnesses and No-show rate')\n",
    "plt.ylabel('No-show rate');"
   ]
  },
  {
   "cell_type": "markdown",
   "metadata": {},
   "source": [
    "### Q8: Would a patient be more or less likely to show up on his (n)th appointment compared to his 1st appointment? (for n > 1)"
   ]
  },
  {
   "cell_type": "markdown",
   "metadata": {},
   "source": [
    "In order to compare the no-show rate between first-time patients and recurring patients, we'll need to first extract each of those patients from the original dataset. For our analysis' purposes, we'll compare first, second and third-time patients with recurring (n)th-time patinets.\n",
    "\n",
    "Hence, we'll divide out dataset into 4 dataframes and then merge each of them back with the original dataframe to extract the show-up data for those specific patients only and then compare them all."
   ]
  },
  {
   "cell_type": "code",
   "execution_count": 53,
   "metadata": {},
   "outputs": [],
   "source": [
    "# group by the variables of interest and divide the dataframe into 4 dataframes\n",
    "visits_counts = df.groupby('PatientId')['No-show'].count().reset_index()\n",
    "first = visits_counts[visits_counts['No-show'] == 1]\n",
    "second = visits_counts[visits_counts['No-show'] == 2]\n",
    "third = visits_counts[visits_counts['No-show'] == 3]\n",
    "nth = visits_counts[visits_counts['No-show'] > 3]"
   ]
  },
  {
   "cell_type": "code",
   "execution_count": 54,
   "metadata": {},
   "outputs": [
    {
     "data": {
      "text/html": [
       "<div>\n",
       "<style scoped>\n",
       "    .dataframe tbody tr th:only-of-type {\n",
       "        vertical-align: middle;\n",
       "    }\n",
       "\n",
       "    .dataframe tbody tr th {\n",
       "        vertical-align: top;\n",
       "    }\n",
       "\n",
       "    .dataframe thead th {\n",
       "        text-align: right;\n",
       "    }\n",
       "</style>\n",
       "<table border=\"1\" class=\"dataframe\">\n",
       "  <thead>\n",
       "    <tr style=\"text-align: right;\">\n",
       "      <th></th>\n",
       "      <th>PatientId</th>\n",
       "      <th>No-show_x</th>\n",
       "    </tr>\n",
       "  </thead>\n",
       "  <tbody>\n",
       "    <tr>\n",
       "      <th>0</th>\n",
       "      <td>8.841186e+12</td>\n",
       "      <td>1</td>\n",
       "    </tr>\n",
       "    <tr>\n",
       "      <th>1</th>\n",
       "      <td>7.336882e+14</td>\n",
       "      <td>0</td>\n",
       "    </tr>\n",
       "    <tr>\n",
       "      <th>2</th>\n",
       "      <td>5.639473e+13</td>\n",
       "      <td>1</td>\n",
       "    </tr>\n",
       "    <tr>\n",
       "      <th>3</th>\n",
       "      <td>7.812456e+13</td>\n",
       "      <td>1</td>\n",
       "    </tr>\n",
       "    <tr>\n",
       "      <th>4</th>\n",
       "      <td>7.345362e+14</td>\n",
       "      <td>1</td>\n",
       "    </tr>\n",
       "  </tbody>\n",
       "</table>\n",
       "</div>"
      ],
      "text/plain": [
       "      PatientId  No-show_x\n",
       "0  8.841186e+12          1\n",
       "1  7.336882e+14          0\n",
       "2  5.639473e+13          1\n",
       "3  7.812456e+13          1\n",
       "4  7.345362e+14          1"
      ]
     },
     "execution_count": 54,
     "metadata": {},
     "output_type": "execute_result"
    }
   ],
   "source": [
    "# merge first-time patients with the original dataset to extract their show-up info\n",
    "first_showrate = df.merge(first, on='PatientId')\n",
    "first_showrate = first_showrate[['PatientId', 'No-show_x']]\n",
    "first_showrate.head()"
   ]
  },
  {
   "cell_type": "code",
   "execution_count": 55,
   "metadata": {},
   "outputs": [
    {
     "data": {
      "text/html": [
       "<div>\n",
       "<style scoped>\n",
       "    .dataframe tbody tr th:only-of-type {\n",
       "        vertical-align: middle;\n",
       "    }\n",
       "\n",
       "    .dataframe tbody tr th {\n",
       "        vertical-align: top;\n",
       "    }\n",
       "\n",
       "    .dataframe thead th {\n",
       "        text-align: right;\n",
       "    }\n",
       "</style>\n",
       "<table border=\"1\" class=\"dataframe\">\n",
       "  <thead>\n",
       "    <tr style=\"text-align: right;\">\n",
       "      <th></th>\n",
       "      <th>PatientId</th>\n",
       "      <th>No-show_x</th>\n",
       "    </tr>\n",
       "  </thead>\n",
       "  <tbody>\n",
       "    <tr>\n",
       "      <th>0</th>\n",
       "      <td>2.987250e+13</td>\n",
       "      <td>1</td>\n",
       "    </tr>\n",
       "    <tr>\n",
       "      <th>1</th>\n",
       "      <td>2.987250e+13</td>\n",
       "      <td>1</td>\n",
       "    </tr>\n",
       "    <tr>\n",
       "      <th>2</th>\n",
       "      <td>5.589978e+14</td>\n",
       "      <td>1</td>\n",
       "    </tr>\n",
       "    <tr>\n",
       "      <th>3</th>\n",
       "      <td>5.589978e+14</td>\n",
       "      <td>1</td>\n",
       "    </tr>\n",
       "    <tr>\n",
       "      <th>4</th>\n",
       "      <td>4.262962e+12</td>\n",
       "      <td>1</td>\n",
       "    </tr>\n",
       "  </tbody>\n",
       "</table>\n",
       "</div>"
      ],
      "text/plain": [
       "      PatientId  No-show_x\n",
       "0  2.987250e+13          1\n",
       "1  2.987250e+13          1\n",
       "2  5.589978e+14          1\n",
       "3  5.589978e+14          1\n",
       "4  4.262962e+12          1"
      ]
     },
     "execution_count": 55,
     "metadata": {},
     "output_type": "execute_result"
    }
   ],
   "source": [
    "# merge second-time patients with the original dataset to extract their show-up info\n",
    "second_showrate = df.merge(second, on='PatientId')[['PatientId', 'No-show_x']]\n",
    "second_showrate.head()"
   ]
  },
  {
   "cell_type": "code",
   "execution_count": 56,
   "metadata": {},
   "outputs": [
    {
     "data": {
      "text/html": [
       "<div>\n",
       "<style scoped>\n",
       "    .dataframe tbody tr th:only-of-type {\n",
       "        vertical-align: middle;\n",
       "    }\n",
       "\n",
       "    .dataframe tbody tr th {\n",
       "        vertical-align: top;\n",
       "    }\n",
       "\n",
       "    .dataframe thead th {\n",
       "        text-align: right;\n",
       "    }\n",
       "</style>\n",
       "<table border=\"1\" class=\"dataframe\">\n",
       "  <thead>\n",
       "    <tr style=\"text-align: right;\">\n",
       "      <th></th>\n",
       "      <th>PatientId</th>\n",
       "      <th>No-show_x</th>\n",
       "    </tr>\n",
       "  </thead>\n",
       "  <tbody>\n",
       "    <tr>\n",
       "      <th>0</th>\n",
       "      <td>2.137540e+14</td>\n",
       "      <td>1</td>\n",
       "    </tr>\n",
       "    <tr>\n",
       "      <th>1</th>\n",
       "      <td>2.137540e+14</td>\n",
       "      <td>1</td>\n",
       "    </tr>\n",
       "    <tr>\n",
       "      <th>2</th>\n",
       "      <td>2.137540e+14</td>\n",
       "      <td>1</td>\n",
       "    </tr>\n",
       "    <tr>\n",
       "      <th>3</th>\n",
       "      <td>1.379437e+11</td>\n",
       "      <td>1</td>\n",
       "    </tr>\n",
       "    <tr>\n",
       "      <th>4</th>\n",
       "      <td>1.379437e+11</td>\n",
       "      <td>1</td>\n",
       "    </tr>\n",
       "  </tbody>\n",
       "</table>\n",
       "</div>"
      ],
      "text/plain": [
       "      PatientId  No-show_x\n",
       "0  2.137540e+14          1\n",
       "1  2.137540e+14          1\n",
       "2  2.137540e+14          1\n",
       "3  1.379437e+11          1\n",
       "4  1.379437e+11          1"
      ]
     },
     "execution_count": 56,
     "metadata": {},
     "output_type": "execute_result"
    }
   ],
   "source": [
    "# merge third-time patients with the original dataset to extract their show-up info\n",
    "third_showrate = df.merge(third, on='PatientId')[['PatientId', 'No-show_x']]\n",
    "third_showrate.head()"
   ]
  },
  {
   "cell_type": "code",
   "execution_count": 57,
   "metadata": {},
   "outputs": [
    {
     "data": {
      "text/html": [
       "<div>\n",
       "<style scoped>\n",
       "    .dataframe tbody tr th:only-of-type {\n",
       "        vertical-align: middle;\n",
       "    }\n",
       "\n",
       "    .dataframe tbody tr th {\n",
       "        vertical-align: top;\n",
       "    }\n",
       "\n",
       "    .dataframe thead th {\n",
       "        text-align: right;\n",
       "    }\n",
       "</style>\n",
       "<table border=\"1\" class=\"dataframe\">\n",
       "  <thead>\n",
       "    <tr style=\"text-align: right;\">\n",
       "      <th></th>\n",
       "      <th>PatientId</th>\n",
       "      <th>No-show_x</th>\n",
       "    </tr>\n",
       "  </thead>\n",
       "  <tbody>\n",
       "    <tr>\n",
       "      <th>0</th>\n",
       "      <td>1.215484e+13</td>\n",
       "      <td>0</td>\n",
       "    </tr>\n",
       "    <tr>\n",
       "      <th>1</th>\n",
       "      <td>1.215484e+13</td>\n",
       "      <td>1</td>\n",
       "    </tr>\n",
       "    <tr>\n",
       "      <th>2</th>\n",
       "      <td>1.215484e+13</td>\n",
       "      <td>1</td>\n",
       "    </tr>\n",
       "    <tr>\n",
       "      <th>3</th>\n",
       "      <td>1.215484e+13</td>\n",
       "      <td>0</td>\n",
       "    </tr>\n",
       "    <tr>\n",
       "      <th>4</th>\n",
       "      <td>1.215484e+13</td>\n",
       "      <td>1</td>\n",
       "    </tr>\n",
       "  </tbody>\n",
       "</table>\n",
       "</div>"
      ],
      "text/plain": [
       "      PatientId  No-show_x\n",
       "0  1.215484e+13          0\n",
       "1  1.215484e+13          1\n",
       "2  1.215484e+13          1\n",
       "3  1.215484e+13          0\n",
       "4  1.215484e+13          1"
      ]
     },
     "execution_count": 57,
     "metadata": {},
     "output_type": "execute_result"
    }
   ],
   "source": [
    "# merge nth-time patients with the original dataset to extract their show-up info\n",
    "nth_showrate = df.merge(nth, on='PatientId')[['PatientId', 'No-show_x']]\n",
    "nth_showrate.head()"
   ]
  },
  {
   "cell_type": "code",
   "execution_count": 58,
   "metadata": {},
   "outputs": [
    {
     "data": {
      "text/html": [
       "<div>\n",
       "<style scoped>\n",
       "    .dataframe tbody tr th:only-of-type {\n",
       "        vertical-align: middle;\n",
       "    }\n",
       "\n",
       "    .dataframe tbody tr th {\n",
       "        vertical-align: top;\n",
       "    }\n",
       "\n",
       "    .dataframe thead th {\n",
       "        text-align: right;\n",
       "    }\n",
       "</style>\n",
       "<table border=\"1\" class=\"dataframe\">\n",
       "  <thead>\n",
       "    <tr style=\"text-align: right;\">\n",
       "      <th></th>\n",
       "      <th>first_sh</th>\n",
       "      <th>sec_sh</th>\n",
       "      <th>third_sh</th>\n",
       "      <th>nth_sh</th>\n",
       "    </tr>\n",
       "  </thead>\n",
       "  <tbody>\n",
       "    <tr>\n",
       "      <th>0</th>\n",
       "      <td>1</td>\n",
       "      <td>1.0</td>\n",
       "      <td>1.0</td>\n",
       "      <td>0.0</td>\n",
       "    </tr>\n",
       "    <tr>\n",
       "      <th>1</th>\n",
       "      <td>0</td>\n",
       "      <td>1.0</td>\n",
       "      <td>1.0</td>\n",
       "      <td>1.0</td>\n",
       "    </tr>\n",
       "    <tr>\n",
       "      <th>2</th>\n",
       "      <td>1</td>\n",
       "      <td>1.0</td>\n",
       "      <td>1.0</td>\n",
       "      <td>1.0</td>\n",
       "    </tr>\n",
       "    <tr>\n",
       "      <th>3</th>\n",
       "      <td>1</td>\n",
       "      <td>1.0</td>\n",
       "      <td>1.0</td>\n",
       "      <td>0.0</td>\n",
       "    </tr>\n",
       "    <tr>\n",
       "      <th>4</th>\n",
       "      <td>1</td>\n",
       "      <td>1.0</td>\n",
       "      <td>1.0</td>\n",
       "      <td>1.0</td>\n",
       "    </tr>\n",
       "  </tbody>\n",
       "</table>\n",
       "</div>"
      ],
      "text/plain": [
       "   first_sh  sec_sh  third_sh  nth_sh\n",
       "0         1     1.0       1.0     0.0\n",
       "1         0     1.0       1.0     1.0\n",
       "2         1     1.0       1.0     1.0\n",
       "3         1     1.0       1.0     0.0\n",
       "4         1     1.0       1.0     1.0"
      ]
     },
     "execution_count": 58,
     "metadata": {},
     "output_type": "execute_result"
    }
   ],
   "source": [
    "# concatenate all four dataframes together horizontally\n",
    "conc_showrate = pd.concat([first_showrate, second_showrate, third_showrate, nth_showrate], \n",
    "                          axis=1)\n",
    "# give the columns somewhat meaningful names\n",
    "conc_showrate.columns = ['first_id', 'first_sh', 'sec_id', 'sec_sh', 'third_id', 'third_sh', 'nth_id', 'nth_sh']\n",
    "conc_showrate[['first_sh', 'sec_sh', 'third_sh', 'nth_sh']].head()"
   ]
  },
  {
   "cell_type": "code",
   "execution_count": 59,
   "metadata": {},
   "outputs": [
    {
     "data": {
      "text/html": [
       "<div>\n",
       "<style scoped>\n",
       "    .dataframe tbody tr th:only-of-type {\n",
       "        vertical-align: middle;\n",
       "    }\n",
       "\n",
       "    .dataframe tbody tr th {\n",
       "        vertical-align: top;\n",
       "    }\n",
       "\n",
       "    .dataframe thead th {\n",
       "        text-align: right;\n",
       "    }\n",
       "</style>\n",
       "<table border=\"1\" class=\"dataframe\">\n",
       "  <thead>\n",
       "    <tr style=\"text-align: right;\">\n",
       "      <th></th>\n",
       "      <th>No</th>\n",
       "      <th>Yes</th>\n",
       "    </tr>\n",
       "  </thead>\n",
       "  <tbody>\n",
       "    <tr>\n",
       "      <th>first_count</th>\n",
       "      <td>30802</td>\n",
       "      <td>7118</td>\n",
       "    </tr>\n",
       "    <tr>\n",
       "      <th>sec_count</th>\n",
       "      <td>22039</td>\n",
       "      <td>5751</td>\n",
       "    </tr>\n",
       "    <tr>\n",
       "      <th>third_count</th>\n",
       "      <td>13049</td>\n",
       "      <td>3451</td>\n",
       "    </tr>\n",
       "    <tr>\n",
       "      <th>nth_count</th>\n",
       "      <td>22318</td>\n",
       "      <td>5999</td>\n",
       "    </tr>\n",
       "  </tbody>\n",
       "</table>\n",
       "</div>"
      ],
      "text/plain": [
       "                No   Yes\n",
       "first_count  30802  7118\n",
       "sec_count    22039  5751\n",
       "third_count  13049  3451\n",
       "nth_count    22318  5999"
      ]
     },
     "execution_count": 59,
     "metadata": {},
     "output_type": "execute_result"
    }
   ],
   "source": [
    "# construct a new dataframe with the frequencies for show-up and no-show rates for each patint type\n",
    "patient_counts = pd.DataFrame({'first_count': conc_showrate.first_sh.value_counts(),\n",
    "                               'sec_count': conc_showrate.sec_sh.value_counts(),\n",
    "                               'third_count': conc_showrate.third_sh.value_counts(),\n",
    "                               'nth_count': conc_showrate.nth_sh.value_counts(),}).transpose()\n",
    "patient_counts.columns = ['No', 'Yes']\n",
    "patient_counts"
   ]
  },
  {
   "cell_type": "markdown",
   "metadata": {},
   "source": [
    "In order to compare these values we need percentages, let's compute these percentages here:"
   ]
  },
  {
   "cell_type": "code",
   "execution_count": 60,
   "metadata": {},
   "outputs": [
    {
     "data": {
      "text/html": [
       "<div>\n",
       "<style scoped>\n",
       "    .dataframe tbody tr th:only-of-type {\n",
       "        vertical-align: middle;\n",
       "    }\n",
       "\n",
       "    .dataframe tbody tr th {\n",
       "        vertical-align: top;\n",
       "    }\n",
       "\n",
       "    .dataframe thead th {\n",
       "        text-align: right;\n",
       "    }\n",
       "</style>\n",
       "<table border=\"1\" class=\"dataframe\">\n",
       "  <thead>\n",
       "    <tr style=\"text-align: right;\">\n",
       "      <th></th>\n",
       "      <th>No</th>\n",
       "      <th>Yes</th>\n",
       "      <th>Total</th>\n",
       "      <th>No_perc</th>\n",
       "      <th>Yes_perc</th>\n",
       "    </tr>\n",
       "  </thead>\n",
       "  <tbody>\n",
       "    <tr>\n",
       "      <th>first_count</th>\n",
       "      <td>30802</td>\n",
       "      <td>7118</td>\n",
       "      <td>37920</td>\n",
       "      <td>0.812289</td>\n",
       "      <td>0.187711</td>\n",
       "    </tr>\n",
       "    <tr>\n",
       "      <th>sec_count</th>\n",
       "      <td>22039</td>\n",
       "      <td>5751</td>\n",
       "      <td>27790</td>\n",
       "      <td>0.793055</td>\n",
       "      <td>0.206945</td>\n",
       "    </tr>\n",
       "    <tr>\n",
       "      <th>third_count</th>\n",
       "      <td>13049</td>\n",
       "      <td>3451</td>\n",
       "      <td>16500</td>\n",
       "      <td>0.790848</td>\n",
       "      <td>0.209152</td>\n",
       "    </tr>\n",
       "    <tr>\n",
       "      <th>nth_count</th>\n",
       "      <td>22318</td>\n",
       "      <td>5999</td>\n",
       "      <td>28317</td>\n",
       "      <td>0.788148</td>\n",
       "      <td>0.211852</td>\n",
       "    </tr>\n",
       "  </tbody>\n",
       "</table>\n",
       "</div>"
      ],
      "text/plain": [
       "                No   Yes  Total   No_perc  Yes_perc\n",
       "first_count  30802  7118  37920  0.812289  0.187711\n",
       "sec_count    22039  5751  27790  0.793055  0.206945\n",
       "third_count  13049  3451  16500  0.790848  0.209152\n",
       "nth_count    22318  5999  28317  0.788148  0.211852"
      ]
     },
     "execution_count": 60,
     "metadata": {},
     "output_type": "execute_result"
    }
   ],
   "source": [
    "# extract the percentages for each type of patients\n",
    "patient_counts['Total'] = patient_counts['No'] + patient_counts['Yes']\n",
    "patient_counts['No_perc'] = patient_counts['No'] / patient_counts['Total']\n",
    "patient_counts['Yes_perc'] = patient_counts['Yes'] / patient_counts['Total']\n",
    "patient_counts"
   ]
  },
  {
   "cell_type": "markdown",
   "metadata": {},
   "source": [
    "#### Based on the above numbers, we can see that there's a slightly higher chance that a patient would show up on his 1st appointment than on his nth appointment. As the no-show rate for first-appointment patient is the lowest. Let's visualize this:"
   ]
  },
  {
   "cell_type": "code",
   "execution_count": 61,
   "metadata": {},
   "outputs": [
    {
     "data": {
      "image/png": "[encoded data removed]",
      "text/plain": [
       "<Figure size 864x576 with 1 Axes>"
      ]
     },
     "metadata": {
      "needs_background": "light"
     },
     "output_type": "display_data"
    }
   ],
   "source": [
    "# plot the values of interest on a bar chart for comparison\n",
    "patient_counts.drop(['No', 'Yes', 'Total'], axis=1).plot.bar(figsize=(12,8), width=0.8)\n",
    "plt.title('Correlation between number of visits and No-show rate')\n",
    "plt.ylabel('No-show Rate');\n",
    "# Note that the Yes-perc stands for the percentage of patients who didn't show up in each group"
   ]
  },
  {
   "cell_type": "markdown",
   "metadata": {},
   "source": [
    "<a id='conclusions'></a>\n",
    "## Conclusions\n",
    "\n",
    "#### In this section, we'll summarize out findings throughout the whole investigation. \n",
    "\n",
    "#### _It's crtical to mention that those findings are tentative not final as we haven't yet employed any inferential statistics or machine learning techniques to validate them._"
   ]
  },
  {
   "cell_type": "markdown",
   "metadata": {},
   "source": [
    "- The no-show rate is higher for **weekdays** than it is for **weekends**.\n",
    "- The no-show rate is highest in the **evening** then the **afternoon** and lowest in the **morning**.\n",
    "- The following age groups are more likely to show up than other age groups:\n",
    "  - Newborn up to 3 years old.\n",
    "  - Around 70 years old (~ 60:~ 80).\n",
    "- The following age groups are less likely to show up than other age groups:\n",
    "  - Around 20 years old (~ 15:~ 30).\n",
    "  - Older than 90 years old.\n",
    "- The no-show rate is **almost identical** between males and females.\n",
    "- The no-show rate is __slightly higher__ for patients who have a scholarship than those who do not.\n",
    "- The no-show rate is __higher__ for patients who recieve a text message.\n",
    "- Hipertension patients are the most likely to show up then the Diabetes then the Handcap patients and the least likely to show up are Alcoholism patients.\n",
    "- The show-up rate is higher for first appointments than it is for recurring appointments."
   ]
  }
 ],
 "metadata": {
  "kernelspec": {
   "display_name": "Python 3",
   "language": "python",
   "name": "python3"
  },
  "language_info": {
   "codemirror_mode": {
    "name": "ipython",
    "version": 3
   },
   "file_extension": ".py",
   "mimetype": "text/x-python",
   "name": "python",
   "nbconvert_exporter": "python",
   "pygments_lexer": "ipython3",
   "version": "3.7.3"
  }
 },
 "nbformat": 4,
 "nbformat_minor": 2
}
